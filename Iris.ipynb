{
  "nbformat": 4,
  "nbformat_minor": 0,
  "metadata": {
    "colab": {
      "provenance": [],
      "gpuType": "T4"
    },
    "kernelspec": {
      "name": "python3",
      "display_name": "Python 3"
    },
    "language_info": {
      "name": "python"
    },
    "accelerator": "GPU"
  },
  "cells": [
    {
      "cell_type": "code",
      "execution_count": 46,
      "metadata": {
        "id": "P5423_5-1FfF"
      },
      "outputs": [],
      "source": [
        "import numpy as np\n",
        "import pandas as pd\n",
        "import matplotlib.pyplot as plt\n",
        "import tensorflow as tf\n",
        "from tensorflow import keras\n",
        "import os"
      ]
    },
    {
      "cell_type": "code",
      "source": [
        "from sklearn.model_selection import train_test_split"
      ],
      "metadata": {
        "id": "c_YJkzXp1j1m"
      },
      "execution_count": 47,
      "outputs": []
    },
    {
      "cell_type": "code",
      "source": [
        "data = pd.read_csv(\"/content/iris.data\")\n",
        "data.head()"
      ],
      "metadata": {
        "colab": {
          "base_uri": "https://localhost:8080/",
          "height": 206
        },
        "id": "c2_6X-zQ1oDI",
        "outputId": "637cc395-60c3-492c-b33b-6067dec1cfb9"
      },
      "execution_count": 48,
      "outputs": [
        {
          "output_type": "execute_result",
          "data": {
            "text/plain": [
              "   5.1  3.5  1.4  0.2  Iris-setosa\n",
              "0  4.9  3.0  1.4  0.2  Iris-setosa\n",
              "1  4.7  3.2  1.3  0.2  Iris-setosa\n",
              "2  4.6  3.1  1.5  0.2  Iris-setosa\n",
              "3  5.0  3.6  1.4  0.2  Iris-setosa\n",
              "4  5.4  3.9  1.7  0.4  Iris-setosa"
            ],
            "text/html": [
              "\n",
              "  <div id=\"df-8119ec76-8930-4c3c-844a-11485075a35f\" class=\"colab-df-container\">\n",
              "    <div>\n",
              "<style scoped>\n",
              "    .dataframe tbody tr th:only-of-type {\n",
              "        vertical-align: middle;\n",
              "    }\n",
              "\n",
              "    .dataframe tbody tr th {\n",
              "        vertical-align: top;\n",
              "    }\n",
              "\n",
              "    .dataframe thead th {\n",
              "        text-align: right;\n",
              "    }\n",
              "</style>\n",
              "<table border=\"1\" class=\"dataframe\">\n",
              "  <thead>\n",
              "    <tr style=\"text-align: right;\">\n",
              "      <th></th>\n",
              "      <th>5.1</th>\n",
              "      <th>3.5</th>\n",
              "      <th>1.4</th>\n",
              "      <th>0.2</th>\n",
              "      <th>Iris-setosa</th>\n",
              "    </tr>\n",
              "  </thead>\n",
              "  <tbody>\n",
              "    <tr>\n",
              "      <th>0</th>\n",
              "      <td>4.9</td>\n",
              "      <td>3.0</td>\n",
              "      <td>1.4</td>\n",
              "      <td>0.2</td>\n",
              "      <td>Iris-setosa</td>\n",
              "    </tr>\n",
              "    <tr>\n",
              "      <th>1</th>\n",
              "      <td>4.7</td>\n",
              "      <td>3.2</td>\n",
              "      <td>1.3</td>\n",
              "      <td>0.2</td>\n",
              "      <td>Iris-setosa</td>\n",
              "    </tr>\n",
              "    <tr>\n",
              "      <th>2</th>\n",
              "      <td>4.6</td>\n",
              "      <td>3.1</td>\n",
              "      <td>1.5</td>\n",
              "      <td>0.2</td>\n",
              "      <td>Iris-setosa</td>\n",
              "    </tr>\n",
              "    <tr>\n",
              "      <th>3</th>\n",
              "      <td>5.0</td>\n",
              "      <td>3.6</td>\n",
              "      <td>1.4</td>\n",
              "      <td>0.2</td>\n",
              "      <td>Iris-setosa</td>\n",
              "    </tr>\n",
              "    <tr>\n",
              "      <th>4</th>\n",
              "      <td>5.4</td>\n",
              "      <td>3.9</td>\n",
              "      <td>1.7</td>\n",
              "      <td>0.4</td>\n",
              "      <td>Iris-setosa</td>\n",
              "    </tr>\n",
              "  </tbody>\n",
              "</table>\n",
              "</div>\n",
              "    <div class=\"colab-df-buttons\">\n",
              "\n",
              "  <div class=\"colab-df-container\">\n",
              "    <button class=\"colab-df-convert\" onclick=\"convertToInteractive('df-8119ec76-8930-4c3c-844a-11485075a35f')\"\n",
              "            title=\"Convert this dataframe to an interactive table.\"\n",
              "            style=\"display:none;\">\n",
              "\n",
              "  <svg xmlns=\"http://www.w3.org/2000/svg\" height=\"24px\" viewBox=\"0 -960 960 960\">\n",
              "    <path d=\"M120-120v-720h720v720H120Zm60-500h600v-160H180v160Zm220 220h160v-160H400v160Zm0 220h160v-160H400v160ZM180-400h160v-160H180v160Zm440 0h160v-160H620v160ZM180-180h160v-160H180v160Zm440 0h160v-160H620v160Z\"/>\n",
              "  </svg>\n",
              "    </button>\n",
              "\n",
              "  <style>\n",
              "    .colab-df-container {\n",
              "      display:flex;\n",
              "      gap: 12px;\n",
              "    }\n",
              "\n",
              "    .colab-df-convert {\n",
              "      background-color: #E8F0FE;\n",
              "      border: none;\n",
              "      border-radius: 50%;\n",
              "      cursor: pointer;\n",
              "      display: none;\n",
              "      fill: #1967D2;\n",
              "      height: 32px;\n",
              "      padding: 0 0 0 0;\n",
              "      width: 32px;\n",
              "    }\n",
              "\n",
              "    .colab-df-convert:hover {\n",
              "      background-color: #E2EBFA;\n",
              "      box-shadow: 0px 1px 2px rgba(60, 64, 67, 0.3), 0px 1px 3px 1px rgba(60, 64, 67, 0.15);\n",
              "      fill: #174EA6;\n",
              "    }\n",
              "\n",
              "    .colab-df-buttons div {\n",
              "      margin-bottom: 4px;\n",
              "    }\n",
              "\n",
              "    [theme=dark] .colab-df-convert {\n",
              "      background-color: #3B4455;\n",
              "      fill: #D2E3FC;\n",
              "    }\n",
              "\n",
              "    [theme=dark] .colab-df-convert:hover {\n",
              "      background-color: #434B5C;\n",
              "      box-shadow: 0px 1px 3px 1px rgba(0, 0, 0, 0.15);\n",
              "      filter: drop-shadow(0px 1px 2px rgba(0, 0, 0, 0.3));\n",
              "      fill: #FFFFFF;\n",
              "    }\n",
              "  </style>\n",
              "\n",
              "    <script>\n",
              "      const buttonEl =\n",
              "        document.querySelector('#df-8119ec76-8930-4c3c-844a-11485075a35f button.colab-df-convert');\n",
              "      buttonEl.style.display =\n",
              "        google.colab.kernel.accessAllowed ? 'block' : 'none';\n",
              "\n",
              "      async function convertToInteractive(key) {\n",
              "        const element = document.querySelector('#df-8119ec76-8930-4c3c-844a-11485075a35f');\n",
              "        const dataTable =\n",
              "          await google.colab.kernel.invokeFunction('convertToInteractive',\n",
              "                                                    [key], {});\n",
              "        if (!dataTable) return;\n",
              "\n",
              "        const docLinkHtml = 'Like what you see? Visit the ' +\n",
              "          '<a target=\"_blank\" href=https://colab.research.google.com/notebooks/data_table.ipynb>data table notebook</a>'\n",
              "          + ' to learn more about interactive tables.';\n",
              "        element.innerHTML = '';\n",
              "        dataTable['output_type'] = 'display_data';\n",
              "        await google.colab.output.renderOutput(dataTable, element);\n",
              "        const docLink = document.createElement('div');\n",
              "        docLink.innerHTML = docLinkHtml;\n",
              "        element.appendChild(docLink);\n",
              "      }\n",
              "    </script>\n",
              "  </div>\n",
              "\n",
              "\n",
              "<div id=\"df-5fa2314a-136e-448c-820b-771bbcad6f74\">\n",
              "  <button class=\"colab-df-quickchart\" onclick=\"quickchart('df-5fa2314a-136e-448c-820b-771bbcad6f74')\"\n",
              "            title=\"Suggest charts\"\n",
              "            style=\"display:none;\">\n",
              "\n",
              "<svg xmlns=\"http://www.w3.org/2000/svg\" height=\"24px\"viewBox=\"0 0 24 24\"\n",
              "     width=\"24px\">\n",
              "    <g>\n",
              "        <path d=\"M19 3H5c-1.1 0-2 .9-2 2v14c0 1.1.9 2 2 2h14c1.1 0 2-.9 2-2V5c0-1.1-.9-2-2-2zM9 17H7v-7h2v7zm4 0h-2V7h2v10zm4 0h-2v-4h2v4z\"/>\n",
              "    </g>\n",
              "</svg>\n",
              "  </button>\n",
              "\n",
              "<style>\n",
              "  .colab-df-quickchart {\n",
              "      --bg-color: #E8F0FE;\n",
              "      --fill-color: #1967D2;\n",
              "      --hover-bg-color: #E2EBFA;\n",
              "      --hover-fill-color: #174EA6;\n",
              "      --disabled-fill-color: #AAA;\n",
              "      --disabled-bg-color: #DDD;\n",
              "  }\n",
              "\n",
              "  [theme=dark] .colab-df-quickchart {\n",
              "      --bg-color: #3B4455;\n",
              "      --fill-color: #D2E3FC;\n",
              "      --hover-bg-color: #434B5C;\n",
              "      --hover-fill-color: #FFFFFF;\n",
              "      --disabled-bg-color: #3B4455;\n",
              "      --disabled-fill-color: #666;\n",
              "  }\n",
              "\n",
              "  .colab-df-quickchart {\n",
              "    background-color: var(--bg-color);\n",
              "    border: none;\n",
              "    border-radius: 50%;\n",
              "    cursor: pointer;\n",
              "    display: none;\n",
              "    fill: var(--fill-color);\n",
              "    height: 32px;\n",
              "    padding: 0;\n",
              "    width: 32px;\n",
              "  }\n",
              "\n",
              "  .colab-df-quickchart:hover {\n",
              "    background-color: var(--hover-bg-color);\n",
              "    box-shadow: 0 1px 2px rgba(60, 64, 67, 0.3), 0 1px 3px 1px rgba(60, 64, 67, 0.15);\n",
              "    fill: var(--button-hover-fill-color);\n",
              "  }\n",
              "\n",
              "  .colab-df-quickchart-complete:disabled,\n",
              "  .colab-df-quickchart-complete:disabled:hover {\n",
              "    background-color: var(--disabled-bg-color);\n",
              "    fill: var(--disabled-fill-color);\n",
              "    box-shadow: none;\n",
              "  }\n",
              "\n",
              "  .colab-df-spinner {\n",
              "    border: 2px solid var(--fill-color);\n",
              "    border-color: transparent;\n",
              "    border-bottom-color: var(--fill-color);\n",
              "    animation:\n",
              "      spin 1s steps(1) infinite;\n",
              "  }\n",
              "\n",
              "  @keyframes spin {\n",
              "    0% {\n",
              "      border-color: transparent;\n",
              "      border-bottom-color: var(--fill-color);\n",
              "      border-left-color: var(--fill-color);\n",
              "    }\n",
              "    20% {\n",
              "      border-color: transparent;\n",
              "      border-left-color: var(--fill-color);\n",
              "      border-top-color: var(--fill-color);\n",
              "    }\n",
              "    30% {\n",
              "      border-color: transparent;\n",
              "      border-left-color: var(--fill-color);\n",
              "      border-top-color: var(--fill-color);\n",
              "      border-right-color: var(--fill-color);\n",
              "    }\n",
              "    40% {\n",
              "      border-color: transparent;\n",
              "      border-right-color: var(--fill-color);\n",
              "      border-top-color: var(--fill-color);\n",
              "    }\n",
              "    60% {\n",
              "      border-color: transparent;\n",
              "      border-right-color: var(--fill-color);\n",
              "    }\n",
              "    80% {\n",
              "      border-color: transparent;\n",
              "      border-right-color: var(--fill-color);\n",
              "      border-bottom-color: var(--fill-color);\n",
              "    }\n",
              "    90% {\n",
              "      border-color: transparent;\n",
              "      border-bottom-color: var(--fill-color);\n",
              "    }\n",
              "  }\n",
              "</style>\n",
              "\n",
              "  <script>\n",
              "    async function quickchart(key) {\n",
              "      const quickchartButtonEl =\n",
              "        document.querySelector('#' + key + ' button');\n",
              "      quickchartButtonEl.disabled = true;  // To prevent multiple clicks.\n",
              "      quickchartButtonEl.classList.add('colab-df-spinner');\n",
              "      try {\n",
              "        const charts = await google.colab.kernel.invokeFunction(\n",
              "            'suggestCharts', [key], {});\n",
              "      } catch (error) {\n",
              "        console.error('Error during call to suggestCharts:', error);\n",
              "      }\n",
              "      quickchartButtonEl.classList.remove('colab-df-spinner');\n",
              "      quickchartButtonEl.classList.add('colab-df-quickchart-complete');\n",
              "    }\n",
              "    (() => {\n",
              "      let quickchartButtonEl =\n",
              "        document.querySelector('#df-5fa2314a-136e-448c-820b-771bbcad6f74 button');\n",
              "      quickchartButtonEl.style.display =\n",
              "        google.colab.kernel.accessAllowed ? 'block' : 'none';\n",
              "    })();\n",
              "  </script>\n",
              "</div>\n",
              "    </div>\n",
              "  </div>\n"
            ]
          },
          "metadata": {},
          "execution_count": 48
        }
      ]
    },
    {
      "cell_type": "code",
      "source": [
        "data.columns = [\"sl\",\"sw\",\"pl\",\"pw\",\"target\"]\n",
        "data.head()"
      ],
      "metadata": {
        "colab": {
          "base_uri": "https://localhost:8080/",
          "height": 206
        },
        "id": "ToeB1teC11iB",
        "outputId": "e766445d-1c04-49fb-fb39-e33cb76c9300"
      },
      "execution_count": 49,
      "outputs": [
        {
          "output_type": "execute_result",
          "data": {
            "text/plain": [
              "    sl   sw   pl   pw       target\n",
              "0  4.9  3.0  1.4  0.2  Iris-setosa\n",
              "1  4.7  3.2  1.3  0.2  Iris-setosa\n",
              "2  4.6  3.1  1.5  0.2  Iris-setosa\n",
              "3  5.0  3.6  1.4  0.2  Iris-setosa\n",
              "4  5.4  3.9  1.7  0.4  Iris-setosa"
            ],
            "text/html": [
              "\n",
              "  <div id=\"df-ed4601af-c01e-4f54-bf93-e8be6a03d4dd\" class=\"colab-df-container\">\n",
              "    <div>\n",
              "<style scoped>\n",
              "    .dataframe tbody tr th:only-of-type {\n",
              "        vertical-align: middle;\n",
              "    }\n",
              "\n",
              "    .dataframe tbody tr th {\n",
              "        vertical-align: top;\n",
              "    }\n",
              "\n",
              "    .dataframe thead th {\n",
              "        text-align: right;\n",
              "    }\n",
              "</style>\n",
              "<table border=\"1\" class=\"dataframe\">\n",
              "  <thead>\n",
              "    <tr style=\"text-align: right;\">\n",
              "      <th></th>\n",
              "      <th>sl</th>\n",
              "      <th>sw</th>\n",
              "      <th>pl</th>\n",
              "      <th>pw</th>\n",
              "      <th>target</th>\n",
              "    </tr>\n",
              "  </thead>\n",
              "  <tbody>\n",
              "    <tr>\n",
              "      <th>0</th>\n",
              "      <td>4.9</td>\n",
              "      <td>3.0</td>\n",
              "      <td>1.4</td>\n",
              "      <td>0.2</td>\n",
              "      <td>Iris-setosa</td>\n",
              "    </tr>\n",
              "    <tr>\n",
              "      <th>1</th>\n",
              "      <td>4.7</td>\n",
              "      <td>3.2</td>\n",
              "      <td>1.3</td>\n",
              "      <td>0.2</td>\n",
              "      <td>Iris-setosa</td>\n",
              "    </tr>\n",
              "    <tr>\n",
              "      <th>2</th>\n",
              "      <td>4.6</td>\n",
              "      <td>3.1</td>\n",
              "      <td>1.5</td>\n",
              "      <td>0.2</td>\n",
              "      <td>Iris-setosa</td>\n",
              "    </tr>\n",
              "    <tr>\n",
              "      <th>3</th>\n",
              "      <td>5.0</td>\n",
              "      <td>3.6</td>\n",
              "      <td>1.4</td>\n",
              "      <td>0.2</td>\n",
              "      <td>Iris-setosa</td>\n",
              "    </tr>\n",
              "    <tr>\n",
              "      <th>4</th>\n",
              "      <td>5.4</td>\n",
              "      <td>3.9</td>\n",
              "      <td>1.7</td>\n",
              "      <td>0.4</td>\n",
              "      <td>Iris-setosa</td>\n",
              "    </tr>\n",
              "  </tbody>\n",
              "</table>\n",
              "</div>\n",
              "    <div class=\"colab-df-buttons\">\n",
              "\n",
              "  <div class=\"colab-df-container\">\n",
              "    <button class=\"colab-df-convert\" onclick=\"convertToInteractive('df-ed4601af-c01e-4f54-bf93-e8be6a03d4dd')\"\n",
              "            title=\"Convert this dataframe to an interactive table.\"\n",
              "            style=\"display:none;\">\n",
              "\n",
              "  <svg xmlns=\"http://www.w3.org/2000/svg\" height=\"24px\" viewBox=\"0 -960 960 960\">\n",
              "    <path d=\"M120-120v-720h720v720H120Zm60-500h600v-160H180v160Zm220 220h160v-160H400v160Zm0 220h160v-160H400v160ZM180-400h160v-160H180v160Zm440 0h160v-160H620v160ZM180-180h160v-160H180v160Zm440 0h160v-160H620v160Z\"/>\n",
              "  </svg>\n",
              "    </button>\n",
              "\n",
              "  <style>\n",
              "    .colab-df-container {\n",
              "      display:flex;\n",
              "      gap: 12px;\n",
              "    }\n",
              "\n",
              "    .colab-df-convert {\n",
              "      background-color: #E8F0FE;\n",
              "      border: none;\n",
              "      border-radius: 50%;\n",
              "      cursor: pointer;\n",
              "      display: none;\n",
              "      fill: #1967D2;\n",
              "      height: 32px;\n",
              "      padding: 0 0 0 0;\n",
              "      width: 32px;\n",
              "    }\n",
              "\n",
              "    .colab-df-convert:hover {\n",
              "      background-color: #E2EBFA;\n",
              "      box-shadow: 0px 1px 2px rgba(60, 64, 67, 0.3), 0px 1px 3px 1px rgba(60, 64, 67, 0.15);\n",
              "      fill: #174EA6;\n",
              "    }\n",
              "\n",
              "    .colab-df-buttons div {\n",
              "      margin-bottom: 4px;\n",
              "    }\n",
              "\n",
              "    [theme=dark] .colab-df-convert {\n",
              "      background-color: #3B4455;\n",
              "      fill: #D2E3FC;\n",
              "    }\n",
              "\n",
              "    [theme=dark] .colab-df-convert:hover {\n",
              "      background-color: #434B5C;\n",
              "      box-shadow: 0px 1px 3px 1px rgba(0, 0, 0, 0.15);\n",
              "      filter: drop-shadow(0px 1px 2px rgba(0, 0, 0, 0.3));\n",
              "      fill: #FFFFFF;\n",
              "    }\n",
              "  </style>\n",
              "\n",
              "    <script>\n",
              "      const buttonEl =\n",
              "        document.querySelector('#df-ed4601af-c01e-4f54-bf93-e8be6a03d4dd button.colab-df-convert');\n",
              "      buttonEl.style.display =\n",
              "        google.colab.kernel.accessAllowed ? 'block' : 'none';\n",
              "\n",
              "      async function convertToInteractive(key) {\n",
              "        const element = document.querySelector('#df-ed4601af-c01e-4f54-bf93-e8be6a03d4dd');\n",
              "        const dataTable =\n",
              "          await google.colab.kernel.invokeFunction('convertToInteractive',\n",
              "                                                    [key], {});\n",
              "        if (!dataTable) return;\n",
              "\n",
              "        const docLinkHtml = 'Like what you see? Visit the ' +\n",
              "          '<a target=\"_blank\" href=https://colab.research.google.com/notebooks/data_table.ipynb>data table notebook</a>'\n",
              "          + ' to learn more about interactive tables.';\n",
              "        element.innerHTML = '';\n",
              "        dataTable['output_type'] = 'display_data';\n",
              "        await google.colab.output.renderOutput(dataTable, element);\n",
              "        const docLink = document.createElement('div');\n",
              "        docLink.innerHTML = docLinkHtml;\n",
              "        element.appendChild(docLink);\n",
              "      }\n",
              "    </script>\n",
              "  </div>\n",
              "\n",
              "\n",
              "<div id=\"df-739dfaab-5bad-47e7-8aea-c6b11be4f554\">\n",
              "  <button class=\"colab-df-quickchart\" onclick=\"quickchart('df-739dfaab-5bad-47e7-8aea-c6b11be4f554')\"\n",
              "            title=\"Suggest charts\"\n",
              "            style=\"display:none;\">\n",
              "\n",
              "<svg xmlns=\"http://www.w3.org/2000/svg\" height=\"24px\"viewBox=\"0 0 24 24\"\n",
              "     width=\"24px\">\n",
              "    <g>\n",
              "        <path d=\"M19 3H5c-1.1 0-2 .9-2 2v14c0 1.1.9 2 2 2h14c1.1 0 2-.9 2-2V5c0-1.1-.9-2-2-2zM9 17H7v-7h2v7zm4 0h-2V7h2v10zm4 0h-2v-4h2v4z\"/>\n",
              "    </g>\n",
              "</svg>\n",
              "  </button>\n",
              "\n",
              "<style>\n",
              "  .colab-df-quickchart {\n",
              "      --bg-color: #E8F0FE;\n",
              "      --fill-color: #1967D2;\n",
              "      --hover-bg-color: #E2EBFA;\n",
              "      --hover-fill-color: #174EA6;\n",
              "      --disabled-fill-color: #AAA;\n",
              "      --disabled-bg-color: #DDD;\n",
              "  }\n",
              "\n",
              "  [theme=dark] .colab-df-quickchart {\n",
              "      --bg-color: #3B4455;\n",
              "      --fill-color: #D2E3FC;\n",
              "      --hover-bg-color: #434B5C;\n",
              "      --hover-fill-color: #FFFFFF;\n",
              "      --disabled-bg-color: #3B4455;\n",
              "      --disabled-fill-color: #666;\n",
              "  }\n",
              "\n",
              "  .colab-df-quickchart {\n",
              "    background-color: var(--bg-color);\n",
              "    border: none;\n",
              "    border-radius: 50%;\n",
              "    cursor: pointer;\n",
              "    display: none;\n",
              "    fill: var(--fill-color);\n",
              "    height: 32px;\n",
              "    padding: 0;\n",
              "    width: 32px;\n",
              "  }\n",
              "\n",
              "  .colab-df-quickchart:hover {\n",
              "    background-color: var(--hover-bg-color);\n",
              "    box-shadow: 0 1px 2px rgba(60, 64, 67, 0.3), 0 1px 3px 1px rgba(60, 64, 67, 0.15);\n",
              "    fill: var(--button-hover-fill-color);\n",
              "  }\n",
              "\n",
              "  .colab-df-quickchart-complete:disabled,\n",
              "  .colab-df-quickchart-complete:disabled:hover {\n",
              "    background-color: var(--disabled-bg-color);\n",
              "    fill: var(--disabled-fill-color);\n",
              "    box-shadow: none;\n",
              "  }\n",
              "\n",
              "  .colab-df-spinner {\n",
              "    border: 2px solid var(--fill-color);\n",
              "    border-color: transparent;\n",
              "    border-bottom-color: var(--fill-color);\n",
              "    animation:\n",
              "      spin 1s steps(1) infinite;\n",
              "  }\n",
              "\n",
              "  @keyframes spin {\n",
              "    0% {\n",
              "      border-color: transparent;\n",
              "      border-bottom-color: var(--fill-color);\n",
              "      border-left-color: var(--fill-color);\n",
              "    }\n",
              "    20% {\n",
              "      border-color: transparent;\n",
              "      border-left-color: var(--fill-color);\n",
              "      border-top-color: var(--fill-color);\n",
              "    }\n",
              "    30% {\n",
              "      border-color: transparent;\n",
              "      border-left-color: var(--fill-color);\n",
              "      border-top-color: var(--fill-color);\n",
              "      border-right-color: var(--fill-color);\n",
              "    }\n",
              "    40% {\n",
              "      border-color: transparent;\n",
              "      border-right-color: var(--fill-color);\n",
              "      border-top-color: var(--fill-color);\n",
              "    }\n",
              "    60% {\n",
              "      border-color: transparent;\n",
              "      border-right-color: var(--fill-color);\n",
              "    }\n",
              "    80% {\n",
              "      border-color: transparent;\n",
              "      border-right-color: var(--fill-color);\n",
              "      border-bottom-color: var(--fill-color);\n",
              "    }\n",
              "    90% {\n",
              "      border-color: transparent;\n",
              "      border-bottom-color: var(--fill-color);\n",
              "    }\n",
              "  }\n",
              "</style>\n",
              "\n",
              "  <script>\n",
              "    async function quickchart(key) {\n",
              "      const quickchartButtonEl =\n",
              "        document.querySelector('#' + key + ' button');\n",
              "      quickchartButtonEl.disabled = true;  // To prevent multiple clicks.\n",
              "      quickchartButtonEl.classList.add('colab-df-spinner');\n",
              "      try {\n",
              "        const charts = await google.colab.kernel.invokeFunction(\n",
              "            'suggestCharts', [key], {});\n",
              "      } catch (error) {\n",
              "        console.error('Error during call to suggestCharts:', error);\n",
              "      }\n",
              "      quickchartButtonEl.classList.remove('colab-df-spinner');\n",
              "      quickchartButtonEl.classList.add('colab-df-quickchart-complete');\n",
              "    }\n",
              "    (() => {\n",
              "      let quickchartButtonEl =\n",
              "        document.querySelector('#df-739dfaab-5bad-47e7-8aea-c6b11be4f554 button');\n",
              "      quickchartButtonEl.style.display =\n",
              "        google.colab.kernel.accessAllowed ? 'block' : 'none';\n",
              "    })();\n",
              "  </script>\n",
              "</div>\n",
              "    </div>\n",
              "  </div>\n"
            ]
          },
          "metadata": {},
          "execution_count": 49
        }
      ]
    },
    {
      "cell_type": "code",
      "source": [
        "data[\"target\"].value_counts()"
      ],
      "metadata": {
        "colab": {
          "base_uri": "https://localhost:8080/"
        },
        "id": "B6zFMBnx2HXl",
        "outputId": "8bd7c5c7-cf17-49cf-8056-e60f01e907e5"
      },
      "execution_count": 50,
      "outputs": [
        {
          "output_type": "execute_result",
          "data": {
            "text/plain": [
              "Iris-versicolor    50\n",
              "Iris-virginica     50\n",
              "Iris-setosa        49\n",
              "Name: target, dtype: int64"
            ]
          },
          "metadata": {},
          "execution_count": 50
        }
      ]
    },
    {
      "cell_type": "code",
      "source": [
        "X = data.drop([\"target\"],axis=1)\n",
        "X.head()"
      ],
      "metadata": {
        "colab": {
          "base_uri": "https://localhost:8080/",
          "height": 206
        },
        "id": "VYZDZxwR2VBb",
        "outputId": "c98ba63b-af2a-43ab-c618-28b3fcab14d4"
      },
      "execution_count": 51,
      "outputs": [
        {
          "output_type": "execute_result",
          "data": {
            "text/plain": [
              "    sl   sw   pl   pw\n",
              "0  4.9  3.0  1.4  0.2\n",
              "1  4.7  3.2  1.3  0.2\n",
              "2  4.6  3.1  1.5  0.2\n",
              "3  5.0  3.6  1.4  0.2\n",
              "4  5.4  3.9  1.7  0.4"
            ],
            "text/html": [
              "\n",
              "  <div id=\"df-abb8b80a-787e-4c82-b1be-8c9facc17ef0\" class=\"colab-df-container\">\n",
              "    <div>\n",
              "<style scoped>\n",
              "    .dataframe tbody tr th:only-of-type {\n",
              "        vertical-align: middle;\n",
              "    }\n",
              "\n",
              "    .dataframe tbody tr th {\n",
              "        vertical-align: top;\n",
              "    }\n",
              "\n",
              "    .dataframe thead th {\n",
              "        text-align: right;\n",
              "    }\n",
              "</style>\n",
              "<table border=\"1\" class=\"dataframe\">\n",
              "  <thead>\n",
              "    <tr style=\"text-align: right;\">\n",
              "      <th></th>\n",
              "      <th>sl</th>\n",
              "      <th>sw</th>\n",
              "      <th>pl</th>\n",
              "      <th>pw</th>\n",
              "    </tr>\n",
              "  </thead>\n",
              "  <tbody>\n",
              "    <tr>\n",
              "      <th>0</th>\n",
              "      <td>4.9</td>\n",
              "      <td>3.0</td>\n",
              "      <td>1.4</td>\n",
              "      <td>0.2</td>\n",
              "    </tr>\n",
              "    <tr>\n",
              "      <th>1</th>\n",
              "      <td>4.7</td>\n",
              "      <td>3.2</td>\n",
              "      <td>1.3</td>\n",
              "      <td>0.2</td>\n",
              "    </tr>\n",
              "    <tr>\n",
              "      <th>2</th>\n",
              "      <td>4.6</td>\n",
              "      <td>3.1</td>\n",
              "      <td>1.5</td>\n",
              "      <td>0.2</td>\n",
              "    </tr>\n",
              "    <tr>\n",
              "      <th>3</th>\n",
              "      <td>5.0</td>\n",
              "      <td>3.6</td>\n",
              "      <td>1.4</td>\n",
              "      <td>0.2</td>\n",
              "    </tr>\n",
              "    <tr>\n",
              "      <th>4</th>\n",
              "      <td>5.4</td>\n",
              "      <td>3.9</td>\n",
              "      <td>1.7</td>\n",
              "      <td>0.4</td>\n",
              "    </tr>\n",
              "  </tbody>\n",
              "</table>\n",
              "</div>\n",
              "    <div class=\"colab-df-buttons\">\n",
              "\n",
              "  <div class=\"colab-df-container\">\n",
              "    <button class=\"colab-df-convert\" onclick=\"convertToInteractive('df-abb8b80a-787e-4c82-b1be-8c9facc17ef0')\"\n",
              "            title=\"Convert this dataframe to an interactive table.\"\n",
              "            style=\"display:none;\">\n",
              "\n",
              "  <svg xmlns=\"http://www.w3.org/2000/svg\" height=\"24px\" viewBox=\"0 -960 960 960\">\n",
              "    <path d=\"M120-120v-720h720v720H120Zm60-500h600v-160H180v160Zm220 220h160v-160H400v160Zm0 220h160v-160H400v160ZM180-400h160v-160H180v160Zm440 0h160v-160H620v160ZM180-180h160v-160H180v160Zm440 0h160v-160H620v160Z\"/>\n",
              "  </svg>\n",
              "    </button>\n",
              "\n",
              "  <style>\n",
              "    .colab-df-container {\n",
              "      display:flex;\n",
              "      gap: 12px;\n",
              "    }\n",
              "\n",
              "    .colab-df-convert {\n",
              "      background-color: #E8F0FE;\n",
              "      border: none;\n",
              "      border-radius: 50%;\n",
              "      cursor: pointer;\n",
              "      display: none;\n",
              "      fill: #1967D2;\n",
              "      height: 32px;\n",
              "      padding: 0 0 0 0;\n",
              "      width: 32px;\n",
              "    }\n",
              "\n",
              "    .colab-df-convert:hover {\n",
              "      background-color: #E2EBFA;\n",
              "      box-shadow: 0px 1px 2px rgba(60, 64, 67, 0.3), 0px 1px 3px 1px rgba(60, 64, 67, 0.15);\n",
              "      fill: #174EA6;\n",
              "    }\n",
              "\n",
              "    .colab-df-buttons div {\n",
              "      margin-bottom: 4px;\n",
              "    }\n",
              "\n",
              "    [theme=dark] .colab-df-convert {\n",
              "      background-color: #3B4455;\n",
              "      fill: #D2E3FC;\n",
              "    }\n",
              "\n",
              "    [theme=dark] .colab-df-convert:hover {\n",
              "      background-color: #434B5C;\n",
              "      box-shadow: 0px 1px 3px 1px rgba(0, 0, 0, 0.15);\n",
              "      filter: drop-shadow(0px 1px 2px rgba(0, 0, 0, 0.3));\n",
              "      fill: #FFFFFF;\n",
              "    }\n",
              "  </style>\n",
              "\n",
              "    <script>\n",
              "      const buttonEl =\n",
              "        document.querySelector('#df-abb8b80a-787e-4c82-b1be-8c9facc17ef0 button.colab-df-convert');\n",
              "      buttonEl.style.display =\n",
              "        google.colab.kernel.accessAllowed ? 'block' : 'none';\n",
              "\n",
              "      async function convertToInteractive(key) {\n",
              "        const element = document.querySelector('#df-abb8b80a-787e-4c82-b1be-8c9facc17ef0');\n",
              "        const dataTable =\n",
              "          await google.colab.kernel.invokeFunction('convertToInteractive',\n",
              "                                                    [key], {});\n",
              "        if (!dataTable) return;\n",
              "\n",
              "        const docLinkHtml = 'Like what you see? Visit the ' +\n",
              "          '<a target=\"_blank\" href=https://colab.research.google.com/notebooks/data_table.ipynb>data table notebook</a>'\n",
              "          + ' to learn more about interactive tables.';\n",
              "        element.innerHTML = '';\n",
              "        dataTable['output_type'] = 'display_data';\n",
              "        await google.colab.output.renderOutput(dataTable, element);\n",
              "        const docLink = document.createElement('div');\n",
              "        docLink.innerHTML = docLinkHtml;\n",
              "        element.appendChild(docLink);\n",
              "      }\n",
              "    </script>\n",
              "  </div>\n",
              "\n",
              "\n",
              "<div id=\"df-87d288ec-fbea-4bce-ac16-388c97eee440\">\n",
              "  <button class=\"colab-df-quickchart\" onclick=\"quickchart('df-87d288ec-fbea-4bce-ac16-388c97eee440')\"\n",
              "            title=\"Suggest charts\"\n",
              "            style=\"display:none;\">\n",
              "\n",
              "<svg xmlns=\"http://www.w3.org/2000/svg\" height=\"24px\"viewBox=\"0 0 24 24\"\n",
              "     width=\"24px\">\n",
              "    <g>\n",
              "        <path d=\"M19 3H5c-1.1 0-2 .9-2 2v14c0 1.1.9 2 2 2h14c1.1 0 2-.9 2-2V5c0-1.1-.9-2-2-2zM9 17H7v-7h2v7zm4 0h-2V7h2v10zm4 0h-2v-4h2v4z\"/>\n",
              "    </g>\n",
              "</svg>\n",
              "  </button>\n",
              "\n",
              "<style>\n",
              "  .colab-df-quickchart {\n",
              "      --bg-color: #E8F0FE;\n",
              "      --fill-color: #1967D2;\n",
              "      --hover-bg-color: #E2EBFA;\n",
              "      --hover-fill-color: #174EA6;\n",
              "      --disabled-fill-color: #AAA;\n",
              "      --disabled-bg-color: #DDD;\n",
              "  }\n",
              "\n",
              "  [theme=dark] .colab-df-quickchart {\n",
              "      --bg-color: #3B4455;\n",
              "      --fill-color: #D2E3FC;\n",
              "      --hover-bg-color: #434B5C;\n",
              "      --hover-fill-color: #FFFFFF;\n",
              "      --disabled-bg-color: #3B4455;\n",
              "      --disabled-fill-color: #666;\n",
              "  }\n",
              "\n",
              "  .colab-df-quickchart {\n",
              "    background-color: var(--bg-color);\n",
              "    border: none;\n",
              "    border-radius: 50%;\n",
              "    cursor: pointer;\n",
              "    display: none;\n",
              "    fill: var(--fill-color);\n",
              "    height: 32px;\n",
              "    padding: 0;\n",
              "    width: 32px;\n",
              "  }\n",
              "\n",
              "  .colab-df-quickchart:hover {\n",
              "    background-color: var(--hover-bg-color);\n",
              "    box-shadow: 0 1px 2px rgba(60, 64, 67, 0.3), 0 1px 3px 1px rgba(60, 64, 67, 0.15);\n",
              "    fill: var(--button-hover-fill-color);\n",
              "  }\n",
              "\n",
              "  .colab-df-quickchart-complete:disabled,\n",
              "  .colab-df-quickchart-complete:disabled:hover {\n",
              "    background-color: var(--disabled-bg-color);\n",
              "    fill: var(--disabled-fill-color);\n",
              "    box-shadow: none;\n",
              "  }\n",
              "\n",
              "  .colab-df-spinner {\n",
              "    border: 2px solid var(--fill-color);\n",
              "    border-color: transparent;\n",
              "    border-bottom-color: var(--fill-color);\n",
              "    animation:\n",
              "      spin 1s steps(1) infinite;\n",
              "  }\n",
              "\n",
              "  @keyframes spin {\n",
              "    0% {\n",
              "      border-color: transparent;\n",
              "      border-bottom-color: var(--fill-color);\n",
              "      border-left-color: var(--fill-color);\n",
              "    }\n",
              "    20% {\n",
              "      border-color: transparent;\n",
              "      border-left-color: var(--fill-color);\n",
              "      border-top-color: var(--fill-color);\n",
              "    }\n",
              "    30% {\n",
              "      border-color: transparent;\n",
              "      border-left-color: var(--fill-color);\n",
              "      border-top-color: var(--fill-color);\n",
              "      border-right-color: var(--fill-color);\n",
              "    }\n",
              "    40% {\n",
              "      border-color: transparent;\n",
              "      border-right-color: var(--fill-color);\n",
              "      border-top-color: var(--fill-color);\n",
              "    }\n",
              "    60% {\n",
              "      border-color: transparent;\n",
              "      border-right-color: var(--fill-color);\n",
              "    }\n",
              "    80% {\n",
              "      border-color: transparent;\n",
              "      border-right-color: var(--fill-color);\n",
              "      border-bottom-color: var(--fill-color);\n",
              "    }\n",
              "    90% {\n",
              "      border-color: transparent;\n",
              "      border-bottom-color: var(--fill-color);\n",
              "    }\n",
              "  }\n",
              "</style>\n",
              "\n",
              "  <script>\n",
              "    async function quickchart(key) {\n",
              "      const quickchartButtonEl =\n",
              "        document.querySelector('#' + key + ' button');\n",
              "      quickchartButtonEl.disabled = true;  // To prevent multiple clicks.\n",
              "      quickchartButtonEl.classList.add('colab-df-spinner');\n",
              "      try {\n",
              "        const charts = await google.colab.kernel.invokeFunction(\n",
              "            'suggestCharts', [key], {});\n",
              "      } catch (error) {\n",
              "        console.error('Error during call to suggestCharts:', error);\n",
              "      }\n",
              "      quickchartButtonEl.classList.remove('colab-df-spinner');\n",
              "      quickchartButtonEl.classList.add('colab-df-quickchart-complete');\n",
              "    }\n",
              "    (() => {\n",
              "      let quickchartButtonEl =\n",
              "        document.querySelector('#df-87d288ec-fbea-4bce-ac16-388c97eee440 button');\n",
              "      quickchartButtonEl.style.display =\n",
              "        google.colab.kernel.accessAllowed ? 'block' : 'none';\n",
              "    })();\n",
              "  </script>\n",
              "</div>\n",
              "    </div>\n",
              "  </div>\n"
            ]
          },
          "metadata": {},
          "execution_count": 51
        }
      ]
    },
    {
      "cell_type": "code",
      "source": [
        "from sklearn.preprocessing import LabelEncoder"
      ],
      "metadata": {
        "id": "2R2LpyPk7c63"
      },
      "execution_count": 64,
      "outputs": []
    },
    {
      "cell_type": "code",
      "source": [
        "le = LabelEncoder()\n",
        "data['target'] = le.fit_transform(data['target'])\n",
        "y = data['target'].values"
      ],
      "metadata": {
        "id": "D2wf6nVT2guQ"
      },
      "execution_count": 66,
      "outputs": []
    },
    {
      "cell_type": "code",
      "source": [
        "X_train, X_test, y_train, y_test = train_test_split(X, y, test_size=0.2)"
      ],
      "metadata": {
        "id": "xWYiKurg2qvI"
      },
      "execution_count": 67,
      "outputs": []
    },
    {
      "cell_type": "code",
      "source": [
        "X_train.shape"
      ],
      "metadata": {
        "colab": {
          "base_uri": "https://localhost:8080/"
        },
        "id": "tiKzIBF03VT5",
        "outputId": "5dfec14d-af4d-46fe-dae1-12e570fa600b"
      },
      "execution_count": 68,
      "outputs": [
        {
          "output_type": "execute_result",
          "data": {
            "text/plain": [
              "(119, 4)"
            ]
          },
          "metadata": {},
          "execution_count": 68
        }
      ]
    },
    {
      "cell_type": "code",
      "source": [
        "X_test.shape"
      ],
      "metadata": {
        "colab": {
          "base_uri": "https://localhost:8080/"
        },
        "id": "29YAWRup3aEz",
        "outputId": "93157b2c-861b-4ec4-d46a-d781c1829490"
      },
      "execution_count": 69,
      "outputs": [
        {
          "output_type": "execute_result",
          "data": {
            "text/plain": [
              "(30, 4)"
            ]
          },
          "metadata": {},
          "execution_count": 69
        }
      ]
    },
    {
      "cell_type": "code",
      "source": [
        "from keras.models import Sequential\n",
        "from keras.layers import Dense,Dropout\n"
      ],
      "metadata": {
        "id": "YcZAHhlP3qIq"
      },
      "execution_count": 113,
      "outputs": []
    },
    {
      "cell_type": "code",
      "source": [
        "model = tf.keras.Sequential([\n",
        "    tf.keras.layers.Dense(8, input_dim=4, activation='relu'),\n",
        "    tf.keras.layers.Dense(3, activation='softmax')\n",
        "])"
      ],
      "metadata": {
        "id": "hyOwndRR3wgw"
      },
      "execution_count": 114,
      "outputs": []
    },
    {
      "cell_type": "code",
      "source": [
        "model.compile(optimizer=\"adam\", loss=\"sparse_categorical_crossentropy\", metrics=[\"accuracy\"])"
      ],
      "metadata": {
        "id": "Fz4hpgim4dwq"
      },
      "execution_count": 115,
      "outputs": []
    },
    {
      "cell_type": "code",
      "source": [
        "history = model.fit(X_train, y_train, epochs=20)"
      ],
      "metadata": {
        "colab": {
          "base_uri": "https://localhost:8080/"
        },
        "id": "TO8qyvrE5uax",
        "outputId": "f9654815-0775-4d21-d624-3595335486b8"
      },
      "execution_count": 116,
      "outputs": [
        {
          "output_type": "stream",
          "name": "stdout",
          "text": [
            "Epoch 1/20\n",
            "4/4 [==============================] - 1s 5ms/step - loss: 2.6192 - accuracy: 0.0000e+00\n",
            "Epoch 2/20\n",
            "4/4 [==============================] - 0s 4ms/step - loss: 2.5351 - accuracy: 0.0000e+00\n",
            "Epoch 3/20\n",
            "4/4 [==============================] - 0s 4ms/step - loss: 2.4443 - accuracy: 0.0084\n",
            "Epoch 4/20\n",
            "4/4 [==============================] - 0s 4ms/step - loss: 2.3613 - accuracy: 0.0084\n",
            "Epoch 5/20\n",
            "4/4 [==============================] - 0s 4ms/step - loss: 2.2847 - accuracy: 0.0168\n",
            "Epoch 6/20\n",
            "4/4 [==============================] - 0s 4ms/step - loss: 2.2111 - accuracy: 0.0504\n",
            "Epoch 7/20\n",
            "4/4 [==============================] - 0s 4ms/step - loss: 2.1423 - accuracy: 0.1261\n",
            "Epoch 8/20\n",
            "4/4 [==============================] - 0s 4ms/step - loss: 2.0768 - accuracy: 0.1765\n",
            "Epoch 9/20\n",
            "4/4 [==============================] - 0s 4ms/step - loss: 2.0166 - accuracy: 0.2101\n",
            "Epoch 10/20\n",
            "4/4 [==============================] - 0s 4ms/step - loss: 1.9676 - accuracy: 0.2605\n",
            "Epoch 11/20\n",
            "4/4 [==============================] - 0s 4ms/step - loss: 1.9123 - accuracy: 0.2941\n",
            "Epoch 12/20\n",
            "4/4 [==============================] - 0s 4ms/step - loss: 1.8726 - accuracy: 0.3025\n",
            "Epoch 13/20\n",
            "4/4 [==============================] - 0s 4ms/step - loss: 1.8365 - accuracy: 0.3193\n",
            "Epoch 14/20\n",
            "4/4 [==============================] - 0s 4ms/step - loss: 1.8032 - accuracy: 0.3193\n",
            "Epoch 15/20\n",
            "4/4 [==============================] - 0s 4ms/step - loss: 1.7713 - accuracy: 0.3193\n",
            "Epoch 16/20\n",
            "4/4 [==============================] - 0s 4ms/step - loss: 1.7464 - accuracy: 0.3193\n",
            "Epoch 17/20\n",
            "4/4 [==============================] - 0s 4ms/step - loss: 1.7209 - accuracy: 0.3277\n",
            "Epoch 18/20\n",
            "4/4 [==============================] - 0s 4ms/step - loss: 1.7000 - accuracy: 0.3277\n",
            "Epoch 19/20\n",
            "4/4 [==============================] - 0s 4ms/step - loss: 1.6800 - accuracy: 0.3193\n",
            "Epoch 20/20\n",
            "4/4 [==============================] - 0s 4ms/step - loss: 1.6629 - accuracy: 0.3193\n"
          ]
        }
      ]
    },
    {
      "cell_type": "code",
      "source": [
        "model.evaluate(X_test, y_test)"
      ],
      "metadata": {
        "colab": {
          "base_uri": "https://localhost:8080/"
        },
        "id": "SX3ICi7p5zMX",
        "outputId": "c32e7d0f-cfca-42c2-b02b-d588772fc2ff"
      },
      "execution_count": 117,
      "outputs": [
        {
          "output_type": "stream",
          "name": "stdout",
          "text": [
            "1/1 [==============================] - 0s 122ms/step - loss: 1.7273 - accuracy: 0.3000\n"
          ]
        },
        {
          "output_type": "execute_result",
          "data": {
            "text/plain": [
              "[1.7272616624832153, 0.30000001192092896]"
            ]
          },
          "metadata": {},
          "execution_count": 117
        }
      ]
    },
    {
      "cell_type": "code",
      "source": [
        "pred=model.predict(X_test[:10])\n",
        "print(pred)"
      ],
      "metadata": {
        "colab": {
          "base_uri": "https://localhost:8080/"
        },
        "id": "C0ZxQbbZ8MOU",
        "outputId": "74e0cd84-bd48-4bcb-9e25-1da9d4755541"
      },
      "execution_count": 118,
      "outputs": [
        {
          "output_type": "stream",
          "name": "stdout",
          "text": [
            "1/1 [==============================] - 0s 45ms/step\n",
            "[[0.44334772 0.40885535 0.14779687]\n",
            " [0.07542306 0.19239347 0.73218346]\n",
            " [0.41197494 0.4123786  0.17564647]\n",
            " [0.3243165  0.38830912 0.2873744 ]\n",
            " [0.34606692 0.39706618 0.25686687]\n",
            " [0.4218212  0.41394293 0.1642358 ]\n",
            " [0.0947173  0.21265614 0.69262654]\n",
            " [0.0813517  0.19549969 0.72314864]\n",
            " [0.36235934 0.4165575  0.22108318]\n",
            " [0.31728703 0.38868463 0.29402837]]\n"
          ]
        }
      ]
    },
    {
      "cell_type": "code",
      "source": [
        "from sklearn.metrics import accuracy_score\n",
        "y_pred = np.argmax(model.predict(X_test), axis=1)\n",
        "accuracy = accuracy_score(y_test, y_pred)\n",
        "print(f\"Accuracy: {accuracy}\")"
      ],
      "metadata": {
        "colab": {
          "base_uri": "https://localhost:8080/"
        },
        "id": "2P9y3FCw8l95",
        "outputId": "d0ed7ae9-6742-4778-e5d5-49d6a744d7a1"
      },
      "execution_count": 119,
      "outputs": [
        {
          "output_type": "stream",
          "name": "stdout",
          "text": [
            "1/1 [==============================] - 0s 27ms/step\n",
            "Accuracy: 0.3\n"
          ]
        }
      ]
    },
    {
      "cell_type": "code",
      "source": [
        "scores = model.evaluate(X_train,y_train)\n",
        "print(\"Training Accuracy: %.2f%%\\n\" % (scores[1]*100))\n",
        "scores = model.evaluate(X_test,y_test)\n",
        "print(\"Testing Accuracy: %.2f%%\\n\" % (scores[1]*100))"
      ],
      "metadata": {
        "colab": {
          "base_uri": "https://localhost:8080/"
        },
        "id": "Qd4cd7ok8xXd",
        "outputId": "cab5f507-700a-4045-ff90-d7cebfcb615d"
      },
      "execution_count": 120,
      "outputs": [
        {
          "output_type": "stream",
          "name": "stdout",
          "text": [
            "4/4 [==============================] - 0s 4ms/step - loss: 1.6512 - accuracy: 0.3277\n",
            "Training Accuracy: 32.77%\n",
            "\n",
            "1/1 [==============================] - 0s 25ms/step - loss: 1.7273 - accuracy: 0.3000\n",
            "Testing Accuracy: 30.00%\n",
            "\n"
          ]
        }
      ]
    },
    {
      "cell_type": "code",
      "source": [
        "model = tf.keras.Sequential([\n",
        "    tf.keras.layers.Dense(100, input_dim=4, activation='relu'),\n",
        "    tf.keras.layers.Dense(28, activation='relu'),\n",
        "    tf.keras.layers.Dense(3, activation='softmax')\n",
        "])"
      ],
      "metadata": {
        "id": "OKE2dK089JeY"
      },
      "execution_count": 121,
      "outputs": []
    },
    {
      "cell_type": "code",
      "source": [
        "model.compile(optimizer=\"adam\", loss=\"sparse_categorical_crossentropy\", metrics=[\"accuracy\"])"
      ],
      "metadata": {
        "id": "YRtvnZQh9j8t"
      },
      "execution_count": 122,
      "outputs": []
    },
    {
      "cell_type": "code",
      "source": [
        "history = model.fit(X_train, y_train, epochs=20)"
      ],
      "metadata": {
        "colab": {
          "base_uri": "https://localhost:8080/"
        },
        "id": "Qr-qXRj19nov",
        "outputId": "e5e3f4aa-9e96-4488-83a9-4071fc561a78"
      },
      "execution_count": 123,
      "outputs": [
        {
          "output_type": "stream",
          "name": "stdout",
          "text": [
            "Epoch 1/20\n",
            "4/4 [==============================] - 1s 6ms/step - loss: 1.2177 - accuracy: 0.3782\n",
            "Epoch 2/20\n",
            "4/4 [==============================] - 0s 5ms/step - loss: 1.0459 - accuracy: 0.4034\n",
            "Epoch 3/20\n",
            "4/4 [==============================] - 0s 5ms/step - loss: 0.9816 - accuracy: 0.6555\n",
            "Epoch 4/20\n",
            "4/4 [==============================] - 0s 5ms/step - loss: 0.9294 - accuracy: 0.6639\n",
            "Epoch 5/20\n",
            "4/4 [==============================] - 0s 5ms/step - loss: 0.8910 - accuracy: 0.8319\n",
            "Epoch 6/20\n",
            "4/4 [==============================] - 0s 6ms/step - loss: 0.8547 - accuracy: 0.7647\n",
            "Epoch 7/20\n",
            "4/4 [==============================] - 0s 5ms/step - loss: 0.8159 - accuracy: 0.8739\n",
            "Epoch 8/20\n",
            "4/4 [==============================] - 0s 5ms/step - loss: 0.7753 - accuracy: 0.8151\n",
            "Epoch 9/20\n",
            "4/4 [==============================] - 0s 6ms/step - loss: 0.7334 - accuracy: 0.7731\n",
            "Epoch 10/20\n",
            "4/4 [==============================] - 0s 6ms/step - loss: 0.6896 - accuracy: 0.8739\n",
            "Epoch 11/20\n",
            "4/4 [==============================] - 0s 6ms/step - loss: 0.6562 - accuracy: 0.9412\n",
            "Epoch 12/20\n",
            "4/4 [==============================] - 0s 6ms/step - loss: 0.6271 - accuracy: 0.9496\n",
            "Epoch 13/20\n",
            "4/4 [==============================] - 0s 6ms/step - loss: 0.5967 - accuracy: 0.9496\n",
            "Epoch 14/20\n",
            "4/4 [==============================] - 0s 5ms/step - loss: 0.5670 - accuracy: 0.9496\n",
            "Epoch 15/20\n",
            "4/4 [==============================] - 0s 7ms/step - loss: 0.5437 - accuracy: 0.9244\n",
            "Epoch 16/20\n",
            "4/4 [==============================] - 0s 7ms/step - loss: 0.5222 - accuracy: 0.9412\n",
            "Epoch 17/20\n",
            "4/4 [==============================] - 0s 6ms/step - loss: 0.4964 - accuracy: 0.9580\n",
            "Epoch 18/20\n",
            "4/4 [==============================] - 0s 6ms/step - loss: 0.4752 - accuracy: 0.9664\n",
            "Epoch 19/20\n",
            "4/4 [==============================] - 0s 5ms/step - loss: 0.4572 - accuracy: 0.9244\n",
            "Epoch 20/20\n",
            "4/4 [==============================] - 0s 6ms/step - loss: 0.4421 - accuracy: 0.9328\n"
          ]
        }
      ]
    },
    {
      "cell_type": "code",
      "source": [
        "model.evaluate(X_test, y_test)"
      ],
      "metadata": {
        "colab": {
          "base_uri": "https://localhost:8080/"
        },
        "id": "czcXSLqt9rUw",
        "outputId": "6d282e19-acb0-490e-f68c-7bc2248e9ae7"
      },
      "execution_count": 124,
      "outputs": [
        {
          "output_type": "stream",
          "name": "stdout",
          "text": [
            "1/1 [==============================] - 0s 197ms/step - loss: 0.3969 - accuracy: 1.0000\n"
          ]
        },
        {
          "output_type": "execute_result",
          "data": {
            "text/plain": [
              "[0.3969303071498871, 1.0]"
            ]
          },
          "metadata": {},
          "execution_count": 124
        }
      ]
    },
    {
      "cell_type": "code",
      "source": [
        "scores = model.evaluate(X_train,y_train)\n",
        "print(\"Training Accuracy: %.2f%%\\n\" % (scores[1]*100))\n",
        "scores = model.evaluate(X_test,y_test)\n",
        "print(\"Testing Accuracy: %.2f%%\\n\" % (scores[1]*100))"
      ],
      "metadata": {
        "colab": {
          "base_uri": "https://localhost:8080/"
        },
        "id": "NvQot9eJ9zCS",
        "outputId": "f42260a3-4c1d-44fe-dc59-28254e0ae9df"
      },
      "execution_count": 125,
      "outputs": [
        {
          "output_type": "stream",
          "name": "stdout",
          "text": [
            "4/4 [==============================] - 0s 5ms/step - loss: 0.4284 - accuracy: 0.9664\n",
            "Training Accuracy: 96.64%\n",
            "\n",
            "1/1 [==============================] - 0s 32ms/step - loss: 0.3969 - accuracy: 1.0000\n",
            "Testing Accuracy: 100.00%\n",
            "\n"
          ]
        }
      ]
    },
    {
      "cell_type": "code",
      "source": [
        "history = model.fit(X_train, y_train,validation_split = 0.1,\n",
        "                    epochs=10, batch_size=32)"
      ],
      "metadata": {
        "colab": {
          "base_uri": "https://localhost:8080/"
        },
        "id": "ukNN9Aip931z",
        "outputId": "43bb1131-6eb1-4a62-9368-08badfbfa1d5"
      },
      "execution_count": 126,
      "outputs": [
        {
          "output_type": "stream",
          "name": "stdout",
          "text": [
            "Epoch 1/10\n",
            "4/4 [==============================] - 0s 42ms/step - loss: 0.4278 - accuracy: 0.9720 - val_loss: 0.3860 - val_accuracy: 1.0000\n",
            "Epoch 2/10\n",
            "4/4 [==============================] - 0s 23ms/step - loss: 0.4155 - accuracy: 0.9626 - val_loss: 0.3697 - val_accuracy: 1.0000\n",
            "Epoch 3/10\n",
            "4/4 [==============================] - 0s 23ms/step - loss: 0.4001 - accuracy: 0.9720 - val_loss: 0.3506 - val_accuracy: 1.0000\n",
            "Epoch 4/10\n",
            "4/4 [==============================] - 0s 16ms/step - loss: 0.3856 - accuracy: 0.9720 - val_loss: 0.3339 - val_accuracy: 0.9167\n",
            "Epoch 5/10\n",
            "4/4 [==============================] - 0s 15ms/step - loss: 0.3738 - accuracy: 0.9720 - val_loss: 0.3195 - val_accuracy: 0.9167\n",
            "Epoch 6/10\n",
            "4/4 [==============================] - 0s 23ms/step - loss: 0.3670 - accuracy: 0.9720 - val_loss: 0.3144 - val_accuracy: 1.0000\n",
            "Epoch 7/10\n",
            "4/4 [==============================] - 0s 21ms/step - loss: 0.3494 - accuracy: 0.9720 - val_loss: 0.2970 - val_accuracy: 0.9167\n",
            "Epoch 8/10\n",
            "4/4 [==============================] - 0s 23ms/step - loss: 0.3459 - accuracy: 0.9626 - val_loss: 0.2842 - val_accuracy: 0.9167\n",
            "Epoch 9/10\n",
            "4/4 [==============================] - 0s 23ms/step - loss: 0.3319 - accuracy: 0.9720 - val_loss: 0.2898 - val_accuracy: 1.0000\n",
            "Epoch 10/10\n",
            "4/4 [==============================] - 0s 16ms/step - loss: 0.3310 - accuracy: 0.9346 - val_loss: 0.2861 - val_accuracy: 1.0000\n"
          ]
        }
      ]
    },
    {
      "cell_type": "code",
      "source": [
        "scores = model.evaluate(X_train,y_train)\n",
        "print(\"Training Accuracy: %.2f%%\\n\" % (scores[1]*100))\n",
        "scores = model.evaluate(X_test,y_test)\n",
        "print(\"Testing Accuracy: %.2f%%\\n\" % (scores[1]*100))"
      ],
      "metadata": {
        "colab": {
          "base_uri": "https://localhost:8080/"
        },
        "id": "Iq-DMQGs99C0",
        "outputId": "f507110a-e4ae-4fc6-f5a3-a3e8b402cb31"
      },
      "execution_count": 127,
      "outputs": [
        {
          "output_type": "stream",
          "name": "stdout",
          "text": [
            "4/4 [==============================] - 0s 6ms/step - loss: 0.3149 - accuracy: 0.9580\n",
            "Training Accuracy: 95.80%\n",
            "\n",
            "1/1 [==============================] - 0s 38ms/step - loss: 0.3024 - accuracy: 0.9333\n",
            "Testing Accuracy: 93.33%\n",
            "\n"
          ]
        }
      ]
    },
    {
      "cell_type": "code",
      "source": [
        "checkpoint_path = \"/content/drive/MyDrive/checkpoints/cp.ckpt\"\n",
        "checkpoint_dir = os.path.dirname(checkpoint_path)\n",
        "\n",
        "# Create a callback that saves the model's weights\n",
        "cp_callback = tf.keras.callbacks.ModelCheckpoint(filepath=checkpoint_path,\n",
        "                                                 save_weights_only=True,\n",
        "                                                 monitor='val_loss',\n",
        "                                                 verbose=1,\n",
        "                                                 save_best_only=True)\n"
      ],
      "metadata": {
        "id": "R0qFyAy2-OqI"
      },
      "execution_count": 128,
      "outputs": []
    },
    {
      "cell_type": "code",
      "source": [
        "model.fit(X_train,\n",
        "          y_train,\n",
        "          epochs=50,\n",
        "          validation_split = 0.1,\n",
        "#        validation_data=(X_test, y_test),\n",
        "          callbacks=[cp_callback])"
      ],
      "metadata": {
        "colab": {
          "base_uri": "https://localhost:8080/"
        },
        "id": "bBSTha8--sNL",
        "outputId": "b69e6d26-9939-47ef-8acf-570030f254b9"
      },
      "execution_count": 129,
      "outputs": [
        {
          "output_type": "stream",
          "name": "stdout",
          "text": [
            "Epoch 1/50\n",
            "1/4 [======>.......................] - ETA: 0s - loss: 0.3587 - accuracy: 0.9375\n",
            "Epoch 1: val_loss improved from inf to 0.25805, saving model to /content/drive/MyDrive/checkpoints/cp.ckpt\n",
            "4/4 [==============================] - 0s 54ms/step - loss: 0.3147 - accuracy: 0.9626 - val_loss: 0.2580 - val_accuracy: 0.9167\n",
            "Epoch 2/50\n",
            "1/4 [======>.......................] - ETA: 0s - loss: 0.3136 - accuracy: 0.9375\n",
            "Epoch 2: val_loss improved from 0.25805 to 0.24974, saving model to /content/drive/MyDrive/checkpoints/cp.ckpt\n",
            "4/4 [==============================] - 0s 32ms/step - loss: 0.3030 - accuracy: 0.9720 - val_loss: 0.2497 - val_accuracy: 0.9167\n",
            "Epoch 3/50\n",
            "1/4 [======>.......................] - ETA: 0s - loss: 0.2835 - accuracy: 1.0000\n",
            "Epoch 3: val_loss improved from 0.24974 to 0.24334, saving model to /content/drive/MyDrive/checkpoints/cp.ckpt\n",
            "4/4 [==============================] - 0s 25ms/step - loss: 0.2955 - accuracy: 0.9720 - val_loss: 0.2433 - val_accuracy: 1.0000\n",
            "Epoch 4/50\n",
            "1/4 [======>.......................] - ETA: 0s - loss: 0.2919 - accuracy: 1.0000\n",
            "Epoch 4: val_loss improved from 0.24334 to 0.23712, saving model to /content/drive/MyDrive/checkpoints/cp.ckpt\n",
            "4/4 [==============================] - 0s 22ms/step - loss: 0.2856 - accuracy: 0.9720 - val_loss: 0.2371 - val_accuracy: 1.0000\n",
            "Epoch 5/50\n",
            "1/4 [======>.......................] - ETA: 0s - loss: 0.2955 - accuracy: 0.9375\n",
            "Epoch 5: val_loss improved from 0.23712 to 0.22619, saving model to /content/drive/MyDrive/checkpoints/cp.ckpt\n",
            "4/4 [==============================] - 0s 22ms/step - loss: 0.2787 - accuracy: 0.9720 - val_loss: 0.2262 - val_accuracy: 1.0000\n",
            "Epoch 6/50\n",
            "1/4 [======>.......................] - ETA: 0s - loss: 0.3387 - accuracy: 0.9375\n",
            "Epoch 6: val_loss improved from 0.22619 to 0.22440, saving model to /content/drive/MyDrive/checkpoints/cp.ckpt\n",
            "4/4 [==============================] - 0s 23ms/step - loss: 0.2697 - accuracy: 0.9720 - val_loss: 0.2244 - val_accuracy: 1.0000\n",
            "Epoch 7/50\n",
            "1/4 [======>.......................] - ETA: 0s - loss: 0.2624 - accuracy: 0.9688\n",
            "Epoch 7: val_loss improved from 0.22440 to 0.21720, saving model to /content/drive/MyDrive/checkpoints/cp.ckpt\n",
            "4/4 [==============================] - 0s 25ms/step - loss: 0.2652 - accuracy: 0.9626 - val_loss: 0.2172 - val_accuracy: 1.0000\n",
            "Epoch 8/50\n",
            "1/4 [======>.......................] - ETA: 0s - loss: 0.2459 - accuracy: 0.9375\n",
            "Epoch 8: val_loss improved from 0.21720 to 0.20387, saving model to /content/drive/MyDrive/checkpoints/cp.ckpt\n",
            "4/4 [==============================] - 0s 24ms/step - loss: 0.2521 - accuracy: 0.9720 - val_loss: 0.2039 - val_accuracy: 0.9167\n",
            "Epoch 9/50\n",
            "1/4 [======>.......................] - ETA: 0s - loss: 0.2286 - accuracy: 0.9688\n",
            "Epoch 9: val_loss improved from 0.20387 to 0.20116, saving model to /content/drive/MyDrive/checkpoints/cp.ckpt\n",
            "4/4 [==============================] - 0s 22ms/step - loss: 0.2677 - accuracy: 0.9439 - val_loss: 0.2012 - val_accuracy: 0.9167\n",
            "Epoch 10/50\n",
            "1/4 [======>.......................] - ETA: 0s - loss: 0.2314 - accuracy: 0.9375\n",
            "Epoch 10: val_loss improved from 0.20116 to 0.19447, saving model to /content/drive/MyDrive/checkpoints/cp.ckpt\n",
            "4/4 [==============================] - 0s 26ms/step - loss: 0.2486 - accuracy: 0.9626 - val_loss: 0.1945 - val_accuracy: 1.0000\n",
            "Epoch 11/50\n",
            "1/4 [======>.......................] - ETA: 0s - loss: 0.2153 - accuracy: 0.9688\n",
            "Epoch 11: val_loss did not improve from 0.19447\n",
            "4/4 [==============================] - 0s 17ms/step - loss: 0.2447 - accuracy: 0.9439 - val_loss: 0.2105 - val_accuracy: 1.0000\n",
            "Epoch 12/50\n",
            "1/4 [======>.......................] - ETA: 0s - loss: 0.2532 - accuracy: 0.9688\n",
            "Epoch 12: val_loss improved from 0.19447 to 0.17998, saving model to /content/drive/MyDrive/checkpoints/cp.ckpt\n",
            "4/4 [==============================] - 0s 21ms/step - loss: 0.2386 - accuracy: 0.9720 - val_loss: 0.1800 - val_accuracy: 1.0000\n",
            "Epoch 13/50\n",
            "1/4 [======>.......................] - ETA: 0s - loss: 0.2504 - accuracy: 0.9688\n",
            "Epoch 13: val_loss improved from 0.17998 to 0.17769, saving model to /content/drive/MyDrive/checkpoints/cp.ckpt\n",
            "4/4 [==============================] - 0s 21ms/step - loss: 0.2374 - accuracy: 0.9720 - val_loss: 0.1777 - val_accuracy: 0.9167\n",
            "Epoch 14/50\n",
            "1/4 [======>.......................] - ETA: 0s - loss: 0.2607 - accuracy: 0.9688\n",
            "Epoch 14: val_loss improved from 0.17769 to 0.17606, saving model to /content/drive/MyDrive/checkpoints/cp.ckpt\n",
            "4/4 [==============================] - 0s 22ms/step - loss: 0.2223 - accuracy: 0.9626 - val_loss: 0.1761 - val_accuracy: 1.0000\n",
            "Epoch 15/50\n",
            "1/4 [======>.......................] - ETA: 0s - loss: 0.1992 - accuracy: 0.9688\n",
            "Epoch 15: val_loss did not improve from 0.17606\n",
            "4/4 [==============================] - 0s 16ms/step - loss: 0.2253 - accuracy: 0.9346 - val_loss: 0.1859 - val_accuracy: 1.0000\n",
            "Epoch 16/50\n",
            "1/4 [======>.......................] - ETA: 0s - loss: 0.2037 - accuracy: 0.9688\n",
            "Epoch 16: val_loss improved from 0.17606 to 0.16007, saving model to /content/drive/MyDrive/checkpoints/cp.ckpt\n",
            "4/4 [==============================] - 0s 22ms/step - loss: 0.2164 - accuracy: 0.9720 - val_loss: 0.1601 - val_accuracy: 1.0000\n",
            "Epoch 17/50\n",
            "1/4 [======>.......................] - ETA: 0s - loss: 0.2247 - accuracy: 0.9688\n",
            "Epoch 17: val_loss did not improve from 0.16007\n",
            "4/4 [==============================] - 0s 13ms/step - loss: 0.2190 - accuracy: 0.9626 - val_loss: 0.1637 - val_accuracy: 0.9167\n",
            "Epoch 18/50\n",
            "1/4 [======>.......................] - ETA: 0s - loss: 0.2240 - accuracy: 0.9688\n",
            "Epoch 18: val_loss improved from 0.16007 to 0.15048, saving model to /content/drive/MyDrive/checkpoints/cp.ckpt\n",
            "4/4 [==============================] - 0s 24ms/step - loss: 0.2139 - accuracy: 0.9626 - val_loss: 0.1505 - val_accuracy: 1.0000\n",
            "Epoch 19/50\n",
            "1/4 [======>.......................] - ETA: 0s - loss: 0.2544 - accuracy: 0.9688\n",
            "Epoch 19: val_loss did not improve from 0.15048\n",
            "4/4 [==============================] - 0s 14ms/step - loss: 0.1942 - accuracy: 0.9813 - val_loss: 0.1531 - val_accuracy: 1.0000\n",
            "Epoch 20/50\n",
            "1/4 [======>.......................] - ETA: 0s - loss: 0.1957 - accuracy: 0.9688\n",
            "Epoch 20: val_loss improved from 0.15048 to 0.14834, saving model to /content/drive/MyDrive/checkpoints/cp.ckpt\n",
            "4/4 [==============================] - 0s 23ms/step - loss: 0.1965 - accuracy: 0.9626 - val_loss: 0.1483 - val_accuracy: 1.0000\n",
            "Epoch 21/50\n",
            "1/4 [======>.......................] - ETA: 0s - loss: 0.1570 - accuracy: 0.9375\n",
            "Epoch 21: val_loss improved from 0.14834 to 0.13836, saving model to /content/drive/MyDrive/checkpoints/cp.ckpt\n",
            "4/4 [==============================] - 0s 23ms/step - loss: 0.1878 - accuracy: 0.9720 - val_loss: 0.1384 - val_accuracy: 1.0000\n",
            "Epoch 22/50\n",
            "1/4 [======>.......................] - ETA: 0s - loss: 0.1633 - accuracy: 1.0000\n",
            "Epoch 22: val_loss did not improve from 0.13836\n",
            "4/4 [==============================] - 0s 14ms/step - loss: 0.2018 - accuracy: 0.9626 - val_loss: 0.1386 - val_accuracy: 0.9167\n",
            "Epoch 23/50\n",
            "1/4 [======>.......................] - ETA: 0s - loss: 0.1685 - accuracy: 0.9688\n",
            "Epoch 23: val_loss improved from 0.13836 to 0.13139, saving model to /content/drive/MyDrive/checkpoints/cp.ckpt\n",
            "4/4 [==============================] - 0s 21ms/step - loss: 0.1845 - accuracy: 0.9626 - val_loss: 0.1314 - val_accuracy: 1.0000\n",
            "Epoch 24/50\n",
            "1/4 [======>.......................] - ETA: 0s - loss: 0.1688 - accuracy: 1.0000\n",
            "Epoch 24: val_loss did not improve from 0.13139\n",
            "4/4 [==============================] - 0s 13ms/step - loss: 0.1787 - accuracy: 0.9720 - val_loss: 0.1383 - val_accuracy: 1.0000\n",
            "Epoch 25/50\n",
            "1/4 [======>.......................] - ETA: 0s - loss: 0.1494 - accuracy: 1.0000\n",
            "Epoch 25: val_loss improved from 0.13139 to 0.12603, saving model to /content/drive/MyDrive/checkpoints/cp.ckpt\n",
            "4/4 [==============================] - 0s 27ms/step - loss: 0.1826 - accuracy: 0.9533 - val_loss: 0.1260 - val_accuracy: 1.0000\n",
            "Epoch 26/50\n",
            "1/4 [======>.......................] - ETA: 0s - loss: 0.1621 - accuracy: 1.0000\n",
            "Epoch 26: val_loss improved from 0.12603 to 0.12398, saving model to /content/drive/MyDrive/checkpoints/cp.ckpt\n",
            "4/4 [==============================] - 0s 40ms/step - loss: 0.1733 - accuracy: 0.9720 - val_loss: 0.1240 - val_accuracy: 1.0000\n",
            "Epoch 27/50\n",
            "1/4 [======>.......................] - ETA: 0s - loss: 0.1723 - accuracy: 0.9688\n",
            "Epoch 27: val_loss improved from 0.12398 to 0.11988, saving model to /content/drive/MyDrive/checkpoints/cp.ckpt\n",
            "4/4 [==============================] - 0s 40ms/step - loss: 0.1786 - accuracy: 0.9626 - val_loss: 0.1199 - val_accuracy: 1.0000\n",
            "Epoch 28/50\n",
            "1/4 [======>.......................] - ETA: 0s - loss: 0.1756 - accuracy: 0.9375\n",
            "Epoch 28: val_loss improved from 0.11988 to 0.11608, saving model to /content/drive/MyDrive/checkpoints/cp.ckpt\n",
            "4/4 [==============================] - 0s 38ms/step - loss: 0.1730 - accuracy: 0.9626 - val_loss: 0.1161 - val_accuracy: 1.0000\n",
            "Epoch 29/50\n",
            "1/4 [======>.......................] - ETA: 0s - loss: 0.1687 - accuracy: 0.9688\n",
            "Epoch 29: val_loss improved from 0.11608 to 0.11131, saving model to /content/drive/MyDrive/checkpoints/cp.ckpt\n",
            "4/4 [==============================] - 0s 37ms/step - loss: 0.1649 - accuracy: 0.9720 - val_loss: 0.1113 - val_accuracy: 1.0000\n",
            "Epoch 30/50\n",
            "1/4 [======>.......................] - ETA: 0s - loss: 0.2058 - accuracy: 0.9375\n",
            "Epoch 30: val_loss improved from 0.11131 to 0.11045, saving model to /content/drive/MyDrive/checkpoints/cp.ckpt\n",
            "4/4 [==============================] - 0s 31ms/step - loss: 0.1610 - accuracy: 0.9720 - val_loss: 0.1104 - val_accuracy: 1.0000\n",
            "Epoch 31/50\n",
            "1/4 [======>.......................] - ETA: 0s - loss: 0.1459 - accuracy: 0.9688\n",
            "Epoch 31: val_loss improved from 0.11045 to 0.10606, saving model to /content/drive/MyDrive/checkpoints/cp.ckpt\n",
            "4/4 [==============================] - 0s 39ms/step - loss: 0.1576 - accuracy: 0.9813 - val_loss: 0.1061 - val_accuracy: 1.0000\n",
            "Epoch 32/50\n",
            "1/4 [======>.......................] - ETA: 0s - loss: 0.1680 - accuracy: 0.9688\n",
            "Epoch 32: val_loss did not improve from 0.10606\n",
            "4/4 [==============================] - 0s 29ms/step - loss: 0.1511 - accuracy: 0.9813 - val_loss: 0.1062 - val_accuracy: 1.0000\n",
            "Epoch 33/50\n",
            "1/4 [======>.......................] - ETA: 0s - loss: 0.0999 - accuracy: 1.0000\n",
            "Epoch 33: val_loss improved from 0.10606 to 0.10163, saving model to /content/drive/MyDrive/checkpoints/cp.ckpt\n",
            "4/4 [==============================] - 0s 40ms/step - loss: 0.1581 - accuracy: 0.9626 - val_loss: 0.1016 - val_accuracy: 1.0000\n",
            "Epoch 34/50\n",
            "1/4 [======>.......................] - ETA: 0s - loss: 0.1226 - accuracy: 1.0000\n",
            "Epoch 34: val_loss did not improve from 0.10163\n",
            "4/4 [==============================] - 0s 26ms/step - loss: 0.1467 - accuracy: 0.9720 - val_loss: 0.1026 - val_accuracy: 1.0000\n",
            "Epoch 35/50\n",
            "1/4 [======>.......................] - ETA: 0s - loss: 0.1123 - accuracy: 1.0000\n",
            "Epoch 35: val_loss improved from 0.10163 to 0.09771, saving model to /content/drive/MyDrive/checkpoints/cp.ckpt\n",
            "4/4 [==============================] - 0s 38ms/step - loss: 0.1505 - accuracy: 0.9626 - val_loss: 0.0977 - val_accuracy: 1.0000\n",
            "Epoch 36/50\n",
            "1/4 [======>.......................] - ETA: 0s - loss: 0.1630 - accuracy: 0.9688\n",
            "Epoch 36: val_loss improved from 0.09771 to 0.09375, saving model to /content/drive/MyDrive/checkpoints/cp.ckpt\n",
            "4/4 [==============================] - 0s 42ms/step - loss: 0.1445 - accuracy: 0.9813 - val_loss: 0.0938 - val_accuracy: 1.0000\n",
            "Epoch 37/50\n",
            "1/4 [======>.......................] - ETA: 0s - loss: 0.0973 - accuracy: 1.0000\n",
            "Epoch 37: val_loss improved from 0.09375 to 0.09364, saving model to /content/drive/MyDrive/checkpoints/cp.ckpt\n",
            "4/4 [==============================] - 0s 41ms/step - loss: 0.1472 - accuracy: 0.9626 - val_loss: 0.0936 - val_accuracy: 1.0000\n",
            "Epoch 38/50\n",
            "1/4 [======>.......................] - ETA: 0s - loss: 0.1149 - accuracy: 0.9688\n",
            "Epoch 38: val_loss improved from 0.09364 to 0.08986, saving model to /content/drive/MyDrive/checkpoints/cp.ckpt\n",
            "4/4 [==============================] - 0s 39ms/step - loss: 0.1413 - accuracy: 0.9720 - val_loss: 0.0899 - val_accuracy: 1.0000\n",
            "Epoch 39/50\n",
            "1/4 [======>.......................] - ETA: 0s - loss: 0.1340 - accuracy: 0.9688\n",
            "Epoch 39: val_loss improved from 0.08986 to 0.08806, saving model to /content/drive/MyDrive/checkpoints/cp.ckpt\n",
            "4/4 [==============================] - 0s 23ms/step - loss: 0.1396 - accuracy: 0.9813 - val_loss: 0.0881 - val_accuracy: 1.0000\n",
            "Epoch 40/50\n",
            "1/4 [======>.......................] - ETA: 0s - loss: 0.1395 - accuracy: 0.9688\n",
            "Epoch 40: val_loss improved from 0.08806 to 0.08613, saving model to /content/drive/MyDrive/checkpoints/cp.ckpt\n",
            "4/4 [==============================] - 0s 21ms/step - loss: 0.1352 - accuracy: 0.9813 - val_loss: 0.0861 - val_accuracy: 1.0000\n",
            "Epoch 41/50\n",
            "1/4 [======>.......................] - ETA: 0s - loss: 0.1439 - accuracy: 0.9375\n",
            "Epoch 41: val_loss improved from 0.08613 to 0.08323, saving model to /content/drive/MyDrive/checkpoints/cp.ckpt\n",
            "4/4 [==============================] - 0s 23ms/step - loss: 0.1337 - accuracy: 0.9720 - val_loss: 0.0832 - val_accuracy: 1.0000\n",
            "Epoch 42/50\n",
            "1/4 [======>.......................] - ETA: 0s - loss: 0.1421 - accuracy: 1.0000\n",
            "Epoch 42: val_loss improved from 0.08323 to 0.08108, saving model to /content/drive/MyDrive/checkpoints/cp.ckpt\n",
            "4/4 [==============================] - 0s 22ms/step - loss: 0.1324 - accuracy: 0.9813 - val_loss: 0.0811 - val_accuracy: 1.0000\n",
            "Epoch 43/50\n",
            "1/4 [======>.......................] - ETA: 0s - loss: 0.1268 - accuracy: 1.0000\n",
            "Epoch 43: val_loss improved from 0.08108 to 0.07891, saving model to /content/drive/MyDrive/checkpoints/cp.ckpt\n",
            "4/4 [==============================] - 0s 22ms/step - loss: 0.1315 - accuracy: 0.9813 - val_loss: 0.0789 - val_accuracy: 1.0000\n",
            "Epoch 44/50\n",
            "1/4 [======>.......................] - ETA: 0s - loss: 0.1095 - accuracy: 1.0000\n",
            "Epoch 44: val_loss improved from 0.07891 to 0.07710, saving model to /content/drive/MyDrive/checkpoints/cp.ckpt\n",
            "4/4 [==============================] - 0s 21ms/step - loss: 0.1296 - accuracy: 0.9813 - val_loss: 0.0771 - val_accuracy: 1.0000\n",
            "Epoch 45/50\n",
            "1/4 [======>.......................] - ETA: 0s - loss: 0.1420 - accuracy: 0.9688\n",
            "Epoch 45: val_loss improved from 0.07710 to 0.07641, saving model to /content/drive/MyDrive/checkpoints/cp.ckpt\n",
            "4/4 [==============================] - 0s 22ms/step - loss: 0.1273 - accuracy: 0.9813 - val_loss: 0.0764 - val_accuracy: 1.0000\n",
            "Epoch 46/50\n",
            "1/4 [======>.......................] - ETA: 0s - loss: 0.1413 - accuracy: 0.9688\n",
            "Epoch 46: val_loss improved from 0.07641 to 0.07479, saving model to /content/drive/MyDrive/checkpoints/cp.ckpt\n",
            "4/4 [==============================] - 0s 25ms/step - loss: 0.1245 - accuracy: 0.9813 - val_loss: 0.0748 - val_accuracy: 1.0000\n",
            "Epoch 47/50\n",
            "1/4 [======>.......................] - ETA: 0s - loss: 0.1843 - accuracy: 0.9375\n",
            "Epoch 47: val_loss improved from 0.07479 to 0.07450, saving model to /content/drive/MyDrive/checkpoints/cp.ckpt\n",
            "4/4 [==============================] - 0s 22ms/step - loss: 0.1236 - accuracy: 0.9813 - val_loss: 0.0745 - val_accuracy: 1.0000\n",
            "Epoch 48/50\n",
            "1/4 [======>.......................] - ETA: 0s - loss: 0.1043 - accuracy: 1.0000\n",
            "Epoch 48: val_loss improved from 0.07450 to 0.07377, saving model to /content/drive/MyDrive/checkpoints/cp.ckpt\n",
            "4/4 [==============================] - 0s 23ms/step - loss: 0.1263 - accuracy: 0.9626 - val_loss: 0.0738 - val_accuracy: 1.0000\n",
            "Epoch 49/50\n",
            "1/4 [======>.......................] - ETA: 0s - loss: 0.0989 - accuracy: 1.0000\n",
            "Epoch 49: val_loss improved from 0.07377 to 0.06928, saving model to /content/drive/MyDrive/checkpoints/cp.ckpt\n",
            "4/4 [==============================] - 0s 28ms/step - loss: 0.1221 - accuracy: 0.9813 - val_loss: 0.0693 - val_accuracy: 1.0000\n",
            "Epoch 50/50\n",
            "1/4 [======>.......................] - ETA: 0s - loss: 0.1713 - accuracy: 0.9375\n",
            "Epoch 50: val_loss improved from 0.06928 to 0.06776, saving model to /content/drive/MyDrive/checkpoints/cp.ckpt\n",
            "4/4 [==============================] - 0s 22ms/step - loss: 0.1202 - accuracy: 0.9813 - val_loss: 0.0678 - val_accuracy: 1.0000\n"
          ]
        },
        {
          "output_type": "execute_result",
          "data": {
            "text/plain": [
              "<keras.src.callbacks.History at 0x7f2462759240>"
            ]
          },
          "metadata": {},
          "execution_count": 129
        }
      ]
    },
    {
      "cell_type": "code",
      "source": [
        "scores = model.evaluate(X_train,y_train)\n",
        "print(\"Training Accuracy: %.2f%%\\n\" % (scores[1]*100))\n",
        "scores = model.evaluate(X_test,y_test)\n",
        "print(\"Testing Accuracy: %.2f%%\\n\" % (scores[1]*100))"
      ],
      "metadata": {
        "colab": {
          "base_uri": "https://localhost:8080/"
        },
        "id": "3G3Lp3JS-wcH",
        "outputId": "804658a8-e391-4798-d4c1-9dfa87378d33"
      },
      "execution_count": 130,
      "outputs": [
        {
          "output_type": "stream",
          "name": "stdout",
          "text": [
            "4/4 [==============================] - 0s 4ms/step - loss: 0.1123 - accuracy: 0.9832\n",
            "Training Accuracy: 98.32%\n",
            "\n",
            "1/1 [==============================] - 0s 25ms/step - loss: 0.1096 - accuracy: 0.9333\n",
            "Testing Accuracy: 93.33%\n",
            "\n"
          ]
        }
      ]
    },
    {
      "cell_type": "code",
      "source": [
        "model.load_weights(checkpoint_path)"
      ],
      "metadata": {
        "colab": {
          "base_uri": "https://localhost:8080/"
        },
        "id": "mp-a020X-1JT",
        "outputId": "0d432933-3289-403c-a760-2de27bfbde08"
      },
      "execution_count": 131,
      "outputs": [
        {
          "output_type": "execute_result",
          "data": {
            "text/plain": [
              "<tensorflow.python.checkpoint.checkpoint.CheckpointLoadStatus at 0x7f2485b2c490>"
            ]
          },
          "metadata": {},
          "execution_count": 131
        }
      ]
    },
    {
      "cell_type": "code",
      "source": [
        "scores = model.evaluate(X_train,y_train)\n",
        "print(\"Training Accuracy: %.2f%%\\n\" % (scores[1]*100))\n",
        "scores = model.evaluate(X_test,y_test)\n",
        "print(\"Testing Accuracy: %.2f%%\\n\" % (scores[1]*100))"
      ],
      "metadata": {
        "colab": {
          "base_uri": "https://localhost:8080/"
        },
        "id": "LmDbTonV-8VI",
        "outputId": "002e1dec-e055-41a3-f171-6f2517fbd06d"
      },
      "execution_count": 132,
      "outputs": [
        {
          "output_type": "stream",
          "name": "stdout",
          "text": [
            "4/4 [==============================] - 0s 4ms/step - loss: 0.1123 - accuracy: 0.9832\n",
            "Training Accuracy: 98.32%\n",
            "\n",
            "1/1 [==============================] - 0s 25ms/step - loss: 0.1096 - accuracy: 0.9333\n",
            "Testing Accuracy: 93.33%\n",
            "\n"
          ]
        }
      ]
    },
    {
      "cell_type": "code",
      "source": [
        "model = tf.keras.Sequential([\n",
        "    tf.keras.layers.Dense(100, input_dim=4, activation='relu'),\n",
        "    tf.keras.layers.Dense(28, activation='relu'),\n",
        "    tf.keras.layers.Dropout(0.5),\n",
        "    tf.keras.layers.Dense(3, activation='softmax')\n",
        "])\n"
      ],
      "metadata": {
        "id": "96N9mBXN--g_"
      },
      "execution_count": 134,
      "outputs": []
    },
    {
      "cell_type": "code",
      "source": [
        "model.compile(optimizer=\"adam\", loss=\"sparse_categorical_crossentropy\", metrics=[\"accuracy\"])\n",
        "history=model.fit(X_train, y_train, epochs=20)"
      ],
      "metadata": {
        "colab": {
          "base_uri": "https://localhost:8080/"
        },
        "id": "5W8XLGBOEVpA",
        "outputId": "d62b4416-6fb6-426c-b3f8-96afa3b225d1"
      },
      "execution_count": 140,
      "outputs": [
        {
          "output_type": "stream",
          "name": "stdout",
          "text": [
            "Epoch 1/20\n",
            "4/4 [==============================] - 3s 13ms/step - loss: 0.5495 - accuracy: 0.7983\n",
            "Epoch 2/20\n",
            "4/4 [==============================] - 0s 8ms/step - loss: 0.5286 - accuracy: 0.7731\n",
            "Epoch 3/20\n",
            "4/4 [==============================] - 0s 8ms/step - loss: 0.5114 - accuracy: 0.8151\n",
            "Epoch 4/20\n",
            "4/4 [==============================] - 0s 7ms/step - loss: 0.4581 - accuracy: 0.7983\n",
            "Epoch 5/20\n",
            "4/4 [==============================] - 0s 7ms/step - loss: 0.4431 - accuracy: 0.8403\n",
            "Epoch 6/20\n",
            "4/4 [==============================] - 0s 14ms/step - loss: 0.4631 - accuracy: 0.8067\n",
            "Epoch 7/20\n",
            "4/4 [==============================] - 0s 8ms/step - loss: 0.4749 - accuracy: 0.7899\n",
            "Epoch 8/20\n",
            "4/4 [==============================] - 0s 7ms/step - loss: 0.4881 - accuracy: 0.7899\n",
            "Epoch 9/20\n",
            "4/4 [==============================] - 0s 5ms/step - loss: 0.4603 - accuracy: 0.7563\n",
            "Epoch 10/20\n",
            "4/4 [==============================] - 0s 5ms/step - loss: 0.4268 - accuracy: 0.8151\n",
            "Epoch 11/20\n",
            "4/4 [==============================] - 0s 5ms/step - loss: 0.4297 - accuracy: 0.8067\n",
            "Epoch 12/20\n",
            "4/4 [==============================] - 0s 5ms/step - loss: 0.4372 - accuracy: 0.7899\n",
            "Epoch 13/20\n",
            "4/4 [==============================] - 0s 5ms/step - loss: 0.3973 - accuracy: 0.8571\n",
            "Epoch 14/20\n",
            "4/4 [==============================] - 0s 5ms/step - loss: 0.4282 - accuracy: 0.8151\n",
            "Epoch 15/20\n",
            "4/4 [==============================] - 0s 5ms/step - loss: 0.4639 - accuracy: 0.7983\n",
            "Epoch 16/20\n",
            "4/4 [==============================] - 0s 5ms/step - loss: 0.4163 - accuracy: 0.8235\n",
            "Epoch 17/20\n",
            "4/4 [==============================] - 0s 5ms/step - loss: 0.4107 - accuracy: 0.8571\n",
            "Epoch 18/20\n",
            "4/4 [==============================] - 0s 5ms/step - loss: 0.3636 - accuracy: 0.8992\n",
            "Epoch 19/20\n",
            "4/4 [==============================] - 0s 7ms/step - loss: 0.4114 - accuracy: 0.8067\n",
            "Epoch 20/20\n",
            "4/4 [==============================] - 0s 4ms/step - loss: 0.4706 - accuracy: 0.7899\n"
          ]
        }
      ]
    },
    {
      "cell_type": "code",
      "source": [
        "scores = model.evaluate(X_train,y_train)\n",
        "print(\"Training Accuracy: %.2f%%\\n\" % (scores[1]*100))\n",
        "scores = model.evaluate(X_test,y_test)\n",
        "print(\"Testing Accuracy: %.2f%%\\n\" % (scores[1]*100))"
      ],
      "metadata": {
        "colab": {
          "base_uri": "https://localhost:8080/"
        },
        "id": "Mv3LHj-pEupS",
        "outputId": "3ba909ab-b7fe-4c74-adf8-ec779227bfb3"
      },
      "execution_count": 141,
      "outputs": [
        {
          "output_type": "stream",
          "name": "stdout",
          "text": [
            "4/4 [==============================] - 0s 9ms/step - loss: 0.2895 - accuracy: 0.9580\n",
            "Training Accuracy: 95.80%\n",
            "\n",
            "1/1 [==============================] - 0s 77ms/step - loss: 0.2633 - accuracy: 1.0000\n",
            "Testing Accuracy: 100.00%\n",
            "\n"
          ]
        }
      ]
    },
    {
      "cell_type": "code",
      "source": [],
      "metadata": {
        "id": "eVMEcagsFGGH"
      },
      "execution_count": null,
      "outputs": []
    }
  ]
}